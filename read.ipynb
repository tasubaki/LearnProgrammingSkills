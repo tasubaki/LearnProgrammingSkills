{
 "cells": [
  {
   "cell_type": "code",
   "execution_count": 1,
   "metadata": {},
   "outputs": [],
   "source": [
    "import sys"
   ]
  },
  {
   "cell_type": "code",
   "execution_count": 2,
   "metadata": {},
   "outputs": [
    {
     "name": "stdout",
     "output_type": "stream",
     "text": [
      "3.12.1 (tags/v3.12.1:2305ca5, Dec  7 2023, 22:03:25) [MSC v.1937 64 bit (AMD64)]\n"
     ]
    }
   ],
   "source": [
    "print(sys.version)"
   ]
  },
  {
   "cell_type": "code",
   "execution_count": 2,
   "metadata": {},
   "outputs": [],
   "source": [
    "from IPython.core.interactiveshell import InteractiveShell\n",
    "InteractiveShell.ast_node_interactivity = \"all\""
   ]
  },
  {
   "cell_type": "markdown",
   "metadata": {},
   "source": [
    "# Class ~ Type\n",
    "- Class is blueprint for object outline possible attributes and behaviors\n",
    "- Class is for defining a particular type of object\n",
    "$$Attribute ~ Characteristics/state. Method ~ operation/ Actions/ Behaviors$$"
   ]
  },
  {
   "cell_type": "markdown",
   "metadata": {},
   "source": []
  },
  {
   "cell_type": "code",
   "execution_count": 6,
   "metadata": {},
   "outputs": [
    {
     "data": {
      "text/plain": [
       "['__annotations__',\n",
       " '__builtins__',\n",
       " '__call__',\n",
       " '__class__',\n",
       " '__closure__',\n",
       " '__code__',\n",
       " '__defaults__',\n",
       " '__delattr__',\n",
       " '__dict__',\n",
       " '__dir__',\n",
       " '__doc__',\n",
       " '__eq__',\n",
       " '__format__',\n",
       " '__ge__',\n",
       " '__get__',\n",
       " '__getattribute__',\n",
       " '__getstate__',\n",
       " '__globals__',\n",
       " '__gt__',\n",
       " '__hash__',\n",
       " '__init__',\n",
       " '__init_subclass__',\n",
       " '__kwdefaults__',\n",
       " '__le__',\n",
       " '__lt__',\n",
       " '__module__',\n",
       " '__name__',\n",
       " '__ne__',\n",
       " '__new__',\n",
       " '__qualname__',\n",
       " '__reduce__',\n",
       " '__reduce_ex__',\n",
       " '__repr__',\n",
       " '__setattr__',\n",
       " '__sizeof__',\n",
       " '__str__',\n",
       " '__subclasshook__',\n",
       " '__type_params__',\n",
       " '__wrapped__']"
      ]
     },
     "execution_count": 6,
     "metadata": {},
     "output_type": "execute_result"
    }
   ],
   "source": [
    "dir(open)"
   ]
  },
  {
   "cell_type": "code",
   "execution_count": 11,
   "metadata": {},
   "outputs": [],
   "source": [
    "my_array = [64, 34, 25, 12, 22, 11, 90, 5]\n"
   ]
  },
  {
   "cell_type": "code",
   "execution_count": 12,
   "metadata": {},
   "outputs": [
    {
     "name": "stdout",
     "output_type": "stream",
     "text": [
      "1\n",
      "34\n",
      "2\n",
      "12\n",
      "3\n",
      "11\n",
      "4\n",
      "5\n",
      "5\n"
     ]
    },
    {
     "ename": "IndexError",
     "evalue": "pop index out of range",
     "output_type": "error",
     "traceback": [
      "\u001b[1;31m---------------------------------------------------------------------------\u001b[0m",
      "\u001b[1;31mIndexError\u001b[0m                                Traceback (most recent call last)",
      "Cell \u001b[1;32mIn[12], line 5\u001b[0m\n\u001b[0;32m      3\u001b[0m insert_index \u001b[38;5;241m=\u001b[39m i\n\u001b[0;32m      4\u001b[0m \u001b[38;5;28mprint\u001b[39m(insert_index)\n\u001b[1;32m----> 5\u001b[0m current_value \u001b[38;5;241m=\u001b[39m \u001b[43mmy_array\u001b[49m\u001b[38;5;241;43m.\u001b[39;49m\u001b[43mpop\u001b[49m\u001b[43m(\u001b[49m\u001b[43mi\u001b[49m\u001b[43m)\u001b[49m\n\u001b[0;32m      6\u001b[0m \u001b[38;5;28mprint\u001b[39m(current_value)\n",
      "\u001b[1;31mIndexError\u001b[0m: pop index out of range"
     ]
    }
   ],
   "source": [
    "def quick_sort(array, low=0, high=None):\n",
    "    # Bước 1: Kiểm tra nếu high là None, thiết lập high bằng chiều dài của mảng trừ một\n",
    "    if high is None:\n",
    "        high = len(array) - 1\n",
    "\n",
    "    # Bước 2: Kiểm tra nếu low nhỏ hơn high\n",
    "    if low < high:\n",
    "        # Bước 3: Gọi hàm partition và nhận chỉ số của pivot\n",
    "        pivot_index = partition(array, low, high)\n",
    "\n",
    "        # Bước 4: Gọi đệ quy cho nửa bên trái của mảng\n",
    "        quick_sort(array, low, pivot_index - 1)\n",
    "        # Bước 5: Gọi đệ quy cho nửa bên phải của mảng\n",
    "        quick_sort(array, pivot_index + 1, high)\n",
    "\n",
    "    # Bước 6: Trả về mảng đã sắp xếp\n",
    "    return array"
   ]
  },
  {
   "cell_type": "code",
   "execution_count": 1,
   "metadata": {},
   "outputs": [
    {
     "data": {
      "text/plain": [
       "'\\nBài toán quản lý sinh viên\\n'"
      ]
     },
     "execution_count": 1,
     "metadata": {},
     "output_type": "execute_result"
    }
   ],
   "source": [
    "\"\"\"\n",
    "Bài toán quản lý sinh viên\n",
    "Yêu cầu: các chức năng sau:\n",
    "\n",
    "1. Thêm sinh viên.\n",
    "2. Cập nhật thông tin sinh viên bởi ID.\n",
    "3. Xóa sinh viên bởi ID.\n",
    "4. Tìm kiếm sinh viên theo tên.\n",
    "5. Sắp xếp sinh viên theo điểm trung bình (GPA).\n",
    "6. Sắp xếp sinh viên theo tên.\n",
    "7. Hiển thị danh sách sinh vien.\n",
    "8. Ghi danh sách sinh viên vào file \"student.txt\" .\n",
    "\"\"\""
   ]
  },
  {
   "cell_type": "code",
   "execution_count": null,
   "metadata": {},
   "outputs": [],
   "source": []
  }
 ],
 "metadata": {
  "kernelspec": {
   "display_name": "Python 3",
   "language": "python",
   "name": "python3"
  },
  "language_info": {
   "codemirror_mode": {
    "name": "ipython",
    "version": 3
   },
   "file_extension": ".py",
   "mimetype": "text/x-python",
   "name": "python",
   "nbconvert_exporter": "python",
   "pygments_lexer": "ipython3",
   "version": "3.12.1"
  }
 },
 "nbformat": 4,
 "nbformat_minor": 2
}
